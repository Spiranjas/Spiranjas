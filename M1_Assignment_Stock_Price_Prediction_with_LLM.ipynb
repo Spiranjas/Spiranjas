{
  "cells": [
    {
      "cell_type": "markdown",
      "metadata": {
        "id": "view-in-github",
        "colab_type": "text"
      },
      "source": [
        "<a href=\"https://colab.research.google.com/github/Spiranjas/Spiranjas/blob/main/M1_Assignment_Stock_Price_Prediction_with_LLM.ipynb\" target=\"_parent\"><img src=\"https://colab.research.google.com/assets/colab-badge.svg\" alt=\"Open In Colab\"/></a>"
      ]
    },
    {
      "cell_type": "markdown",
      "metadata": {
        "id": "3XRCzVcg8qq6"
      },
      "source": [
        "# Module 1 No Code/Low Code Assignment: Stock Price Prediction with LLM (Using Gemini in Colab)\n",
        "\n",
        "This assignment explores how large language models (LLMs) can perform complex tasks that previously required coding. Instead of manually writing code, we will interact with Google's Gemini (Click on the Gemini icon on the top right corner) in Google Colab to:\n",
        "\n",
        "- Load and analyze stock price data.\n",
        "- Engineer relevant features for prediction.\n",
        "- Build and evaluate models such as regression and random forest.\n",
        "- Discuss potential trading strategies based on predictions.\n",
        "\n",
        "**Note**: While this notebook contains example code, students are encouraged to use LLMs to generate code snippets and explanations, managing interactions within the LLM's context window.\n",
        "\n",
        "## Task Breakdown\n",
        "\n",
        "### Step 1: Data Exploration\n",
        "- **Prompt the LLM**: Load historical stock price data for Apple Inc. (AAPL) from 2020-01-01 to 2023-01-01 using Yahoo Finance.\n",
        "- **Key Considerations**: Ensure the model retains context while summarizing key statistics.\n",
        "\n",
        "### Step 2: Feature Engineering\n",
        "- **Prompt the LLM**: Generate meaningful features such as moving averages, technical indicators, and volatility measures.\n",
        "- **Managing Context**: If the LLM forgets prior outputs, remind it by reintroducing key statistics.\n",
        "\n",
        "### Step 3: Model Building\n",
        "- **Prompt the LLM**: Train a model (regression for price prediction, random forest for trend classification).\n",
        "- **Split Ratio Consideration**: Explain the importance of train-test split (e.g., 70/30) and verify the LLM respects it.\n",
        "\n",
        "### Step 4: Model Evaluation & Prediction\n",
        "- **Prompt the LLM**: Use the trained model to predict stock prices for 2023-2024.\n",
        "- **Analyze Performance**: Interpret accuracy, R² scores, and classification reports.\n",
        "\n",
        "### Step 5: Strategy Discussion\n",
        "- **Prompt the LLM**: Based on model performance, discuss possible trading strategies.\n",
        "- **Critical Thinking**: Evaluate whether the model is truly useful for financial decision-making.\n",
        "\n",
        "---\n",
        "\n",
        "Throughout the assignment, keep in mind that LLMs have a limited context window. If necessary, break down tasks into smaller chunks and reintroduce critical information.\n",
        "\n"
      ]
    },
    {
      "cell_type": "code",
      "source": [],
      "metadata": {
        "id": "U11pK0cBA5DW"
      },
      "execution_count": null,
      "outputs": []
    },
    {
      "cell_type": "code",
      "execution_count": null,
      "metadata": {
        "id": "iMgjTlOjk05n"
      },
      "outputs": [],
      "source": [
        "# prompt: Load historical stock price data for Apple Inc. (AAPL) from 2020-01-01 to 2023-01-01 using Yahoo Finance and summarize its key statistics.\n",
        "\n",
        "!pip install yfinance\n",
        "\n",
        "import yfinance as yf\n",
        "import pandas as pd\n",
        "\n",
        "# Download historical data for AAPL\n",
        "data = yf.download(\"AAPL\", start=\"2020-01-01\", end=\"2023-01-01\")\n",
        "\n",
        "# Display summary statistics\n",
        "print(data.describe())\n"
      ]
    },
    {
      "cell_type": "code",
      "execution_count": null,
      "metadata": {
        "colab": {
          "base_uri": "https://localhost:8080/"
        },
        "id": "qKaqonJh7rMO",
        "outputId": "06cf0885-14c4-4373-e5cf-6a36a83e1f41"
      },
      "outputs": [
        {
          "name": "stdout",
          "output_type": "stream",
          "text": [
            "Requirement already satisfied: yfinance in /usr/local/lib/python3.11/dist-packages (0.2.54)\n",
            "Requirement already satisfied: pandas>=1.3.0 in /usr/local/lib/python3.11/dist-packages (from yfinance) (2.2.2)\n",
            "Requirement already satisfied: numpy>=1.16.5 in /usr/local/lib/python3.11/dist-packages (from yfinance) (2.0.2)\n",
            "Requirement already satisfied: requests>=2.31 in /usr/local/lib/python3.11/dist-packages (from yfinance) (2.32.3)\n",
            "Requirement already satisfied: multitasking>=0.0.7 in /usr/local/lib/python3.11/dist-packages (from yfinance) (0.0.11)\n",
            "Requirement already satisfied: platformdirs>=2.0.0 in /usr/local/lib/python3.11/dist-packages (from yfinance) (4.3.6)\n",
            "Requirement already satisfied: pytz>=2022.5 in /usr/local/lib/python3.11/dist-packages (from yfinance) (2025.1)\n",
            "Requirement already satisfied: frozendict>=2.3.4 in /usr/local/lib/python3.11/dist-packages (from yfinance) (2.4.6)\n",
            "Requirement already satisfied: peewee>=3.16.2 in /usr/local/lib/python3.11/dist-packages (from yfinance) (3.17.9)\n",
            "Requirement already satisfied: beautifulsoup4>=4.11.1 in /usr/local/lib/python3.11/dist-packages (from yfinance) (4.13.3)\n",
            "Requirement already satisfied: soupsieve>1.2 in /usr/local/lib/python3.11/dist-packages (from beautifulsoup4>=4.11.1->yfinance) (2.6)\n",
            "Requirement already satisfied: typing-extensions>=4.0.0 in /usr/local/lib/python3.11/dist-packages (from beautifulsoup4>=4.11.1->yfinance) (4.12.2)\n",
            "Requirement already satisfied: python-dateutil>=2.8.2 in /usr/local/lib/python3.11/dist-packages (from pandas>=1.3.0->yfinance) (2.8.2)\n",
            "Requirement already satisfied: tzdata>=2022.7 in /usr/local/lib/python3.11/dist-packages (from pandas>=1.3.0->yfinance) (2025.1)\n",
            "Requirement already satisfied: charset-normalizer<4,>=2 in /usr/local/lib/python3.11/dist-packages (from requests>=2.31->yfinance) (3.4.1)\n",
            "Requirement already satisfied: idna<4,>=2.5 in /usr/local/lib/python3.11/dist-packages (from requests>=2.31->yfinance) (3.10)\n",
            "Requirement already satisfied: urllib3<3,>=1.21.1 in /usr/local/lib/python3.11/dist-packages (from requests>=2.31->yfinance) (2.3.0)\n",
            "Requirement already satisfied: certifi>=2017.4.17 in /usr/local/lib/python3.11/dist-packages (from requests>=2.31->yfinance) (2025.1.31)\n",
            "Requirement already satisfied: six>=1.5 in /usr/local/lib/python3.11/dist-packages (from python-dateutil>=2.8.2->pandas>=1.3.0->yfinance) (1.17.0)\n",
            "YF.download() has changed argument auto_adjust default to True\n"
          ]
        },
        {
          "name": "stderr",
          "output_type": "stream",
          "text": [
            "\r",
            "[*********************100%***********************]  1 of 1 completed"
          ]
        },
        {
          "name": "stdout",
          "output_type": "stream",
          "text": [
            "Price        Close        High         Low        Open        Volume\n",
            "Ticker        AAPL        AAPL        AAPL        AAPL          AAPL\n",
            "count   756.000000  756.000000  756.000000  756.000000  7.560000e+02\n",
            "mean    127.800474  129.350921  126.136626  127.722421  1.120920e+08\n",
            "std      30.461355   30.739156   30.179073   30.489492  5.602586e+07\n",
            "min      54.449894   55.452160   51.595990   55.350235  3.519590e+07\n",
            "25%     112.857315  114.354702  111.397715  113.037711  7.636470e+07\n",
            "50%     133.185188  134.319768  131.222483  133.006499  9.493580e+07\n",
            "75%     148.415882  149.584513  146.468716  147.782312  1.296327e+08\n",
            "max     178.879913  179.793905  176.039592  179.489238  4.265100e+08\n"
          ]
        },
        {
          "name": "stderr",
          "output_type": "stream",
          "text": [
            "\n"
          ]
        }
      ],
      "source": [
        "# prompt: Load historical stock price data for Apple Inc. (AAPL) from 2020-01-01 to 2023-01-01 using Yahoo Finance and summarize its key statistics.\n",
        "\n",
        "!pip install yfinance\n",
        "\n",
        "import yfinance as yf\n",
        "import pandas as pd\n",
        "\n",
        "# Download historical data for AAPL from 2020-01-01 to 2023-01-01\n",
        "data = yf.download(\"AAPL\", start=\"2020-01-01\", end=\"2023-01-01\")\n",
        "\n",
        "# Summarize key statistics\n",
        "print(data.describe())\n"
      ]
    },
    {
      "cell_type": "code",
      "execution_count": null,
      "metadata": {
        "colab": {
          "base_uri": "https://localhost:8080/"
        },
        "id": "tEuXvSCP6QWj",
        "outputId": "fe1db2ac-12e3-4b67-b63c-b1bec610cd68"
      },
      "outputs": [
        {
          "name": "stdout",
          "output_type": "stream",
          "text": [
            "YF.download() has changed argument auto_adjust default to True\n"
          ]
        },
        {
          "name": "stderr",
          "output_type": "stream",
          "text": [
            "\r",
            "[*********************100%***********************]  1 of 1 completed\n"
          ]
        },
        {
          "name": "stdout",
          "output_type": "stream",
          "text": [
            "Price        Close        High         Low        Open        Volume\n",
            "Ticker        AAPL        AAPL        AAPL        AAPL          AAPL\n",
            "count   756.000000  756.000000  756.000000  756.000000  7.560000e+02\n",
            "mean    127.800473  129.350921  126.136626  127.722421  1.120920e+08\n",
            "std      30.461355   30.739156   30.179073   30.489492  5.602586e+07\n",
            "min      54.449894   55.452160   51.595990   55.350235  3.519590e+07\n",
            "25%     112.857307  114.354706  111.397708  113.037705  7.636470e+07\n",
            "50%     133.185196  134.319791  131.222513  133.006484  9.493580e+07\n",
            "75%     148.415874  149.584494  146.468701  147.782328  1.296327e+08\n",
            "max     178.879898  179.793936  176.039622  179.489269  4.265100e+08\n"
          ]
        }
      ],
      "source": [
        "# Prompt: Load historical stock price data for Apple Inc. (AAPL) from 2020-01-01 to 2023-01-01\n",
        "# using Yahoo Finance and summarize its key statistics.\n",
        "\n",
        "import yfinance as yf\n",
        "\n",
        "data = yf.download(\"AAPL\", start=\"2020-01-01\", end=\"2023-01-01\")\n",
        "\n",
        "# Summarize key statistics\n",
        "print(data.describe())\n",
        "\n"
      ]
    },
    {
      "cell_type": "markdown",
      "metadata": {
        "id": "mO9zmOSrj7b2"
      },
      "source": [
        "## Now try doing step 2 - step 5 by yourself\n",
        "\n",
        "The sample prompts and LLM responses are listed below for your reference."
      ]
    },
    {
      "cell_type": "code",
      "execution_count": null,
      "metadata": {
        "id": "4Azv7KJQkStv"
      },
      "outputs": [],
      "source": []
    },
    {
      "cell_type": "markdown",
      "metadata": {
        "id": "KSb-lVTs67ir"
      },
      "source": [
        "# Sample Prompts and LLM Responses\n",
        "---\n",
        "\n",
        "## Step 1: Data Exploration\n",
        "\n",
        "### Prompt:\n",
        "> Load historical stock price data for Apple Inc. (AAPL) from 2020-01-01 to 2023-01-01 from Yahoo Finance, keep it in memory and summarize its key statistics.\n",
        "\n",
        "### LLM Response:\n",
        "- **Highest Closing Price:** \\$182.01 on January 3, 2022\n",
        "- **Lowest Closing Price:** \\$56.01 on March 23, 2020\n",
        "- **Average Closing Price:** \\$126.69\n",
        "- **Total Trading Days:** 756\n",
        "\n",
        "---\n",
        "\n",
        "## Step 2: Feature Engineering\n",
        "\n",
        "### Prompt:\n",
        "> Suggest some features that might help improve a stock price prediction model.\n",
        "\n",
        "### LLM Response:\n",
        "1. **Historical Prices**: Include past closing, opening, high, and low prices.\n",
        "2. **Volume**: Daily trading volumes.\n",
        "3. **Moving Averages**: Simple and exponential moving averages (e.g., 5-day, 10-day, 50-day).\n",
        "4. **Technical Indicators**: RSI, MACD, Bollinger Bands, etc.\n",
        "5. **Volatility**: Historical volatility, Average True Range (ATR).\n",
        "6. **Sentiment Analysis**: News articles, social media sentiment.\n",
        "7. **Economic Indicators**: Interest rates, inflation rates, GDP growth.\n",
        "8. **Time-based Features**: Day of the week, month, year.\n",
        "9. **Sector Performance**: Comparison with industry and sector indices.\n",
        "10. **External Events**: Major geopolitical events, earnings reports.\n",
        "\n",
        "---\n",
        "\n",
        "## Step 3.1: Model Building - Linear Regression\n",
        "\n",
        "### Prompt:\n",
        "> Adopt the first four kinds of features and train a regression model to predict tomorrow's stock price. Split your training and testing data by a 70/30 ratio and report your performance metric.\n",
        "\n",
        "### LLM Response:\n",
        "- **Mean Squared Error (MSE):** 859.04\n",
        "- **R-squared (R²) Score:** -0.009\n",
        "\n",
        "These metrics indicate that the model is not performing well, as an R² score close to zero or negative suggests that the model does not explain the variability in the target variable better than a simple mean of the target variable. This outcome suggests that the chosen features and model might need adjustments or improvements to enhance prediction accuracy. ​​\n",
        "\n",
        "---\n",
        "(It might be too hard to predict the exact price but how about ups and downs?)\n",
        "# Step 3.2: Model Building - Random Forest Classification\n",
        "\n",
        "### Prompt:\n",
        "> Create a binary target variable based on historical prices (1 if the close price increase tomorrow, 0 other), and train a Random Forest model using the same train/test split ratio. Report feature importance and performance metrics.\n",
        "\n",
        "### LLM Response:\n",
        "- **Accuracy:** 71.82%\n",
        "- **Confusion Matrix:** [[84, 26],\n",
        " [36, 74]]\n",
        "- **Classification Report:**\n",
        "\n",
        "              precision    recall  f1-score   support\n",
        "\n",
        "         0       0.70      0.76      0.73       110\n",
        "         1       0.74      0.67      0.70       110\n",
        "        accuracy                     0.72       220\n",
        "        macro avg    0.72      0.72      0.72       220\n",
        "        weighted avg  0.72      0.72      0.72       220\n",
        "\n",
        "\n",
        "\n",
        "- **Feature Importance:** The most important feature for predicting whether the price will increase or decrease the next day is the closing price, followed by the 5-day moving average (MA_5). The model achieved an accuracy of approximately 71.82%, indicating a reasonable performance for this classification task.\n",
        "         Feature\tImportance\n",
        "         Open\t   0.0900\n",
        "         High\t   0.0883\n",
        "         Low\t   0.0980\n",
        "         Close\t   0.3087\n",
        "         Volume\t    0.0982\n",
        "         MA_5\t   0.1242\n",
        "         MA_10\t   0.0974\n",
        "         MA_50\t   0.0951\n",
        "\n",
        "---\n",
        "\n",
        "## Step 4: Model Evaluation & Prediction\n",
        "### Prompt:\n",
        "> Use this model to predict stock price increase/decrease for period starting from 2023-01-01 to 2024-01-01. Report your performance metrics.\n",
        "\n",
        "### LLM Response:\n",
        "The Random Forest classifier's performance on the new test data from 2023-01-01 to 2024-01-01 is as follows:\n",
        "- **Accuracy:** 60.85%\n",
        "- **Confusion Matrix:** [[105,   0],\n",
        " [ 83,  24]]\n",
        "- **Classification Report:**\n",
        "\n",
        "            precision    recall  f1-score   support\n",
        "\n",
        "       0       0.56      1.00      0.72       105\n",
        "       1       1.00      0.22      0.37       107\n",
        "\n",
        "        accuracy                   0.61       212\n",
        "        macro avg  0.78     0.61       0.54       212\n",
        "        weighted avg 0.78    0.61        0.54       212\n",
        "\n",
        "---\n",
        "## Step 5: Strategy Discussion\n",
        "### Prompt:\n",
        "> What do you think about the performance of the model and what trading strategies could I build with this model?\n",
        "\n",
        "### LLM Response:\n",
        "- The model shows a moderate performance with an accuracy of approximately 60.85%. However, the precision and recall metrics indicate that while the model is good at identifying days when the stock price does not increase (class 0), it struggles significantly to identify days when the stock price does increase (class 1). This suggests a need for further feature engineering or model tuning to improve the prediction performance for this specific classification task.\n",
        "- Potential Trading Strategies\n",
        "Given the model's performance, potential trading strategies could be formulated as follows:\n",
        "\n",
        "#### Conservative Strategy:\n",
        "\n",
        "- **Focus**: Only trade on days when the model predicts a price increase with high confidence.\n",
        "- **Action**: Buy stocks when the model predicts an increase (class 1).\n",
        "- **Risk Management**: Since the model has a high precision for the no-increase class (class 0), it might be more reliable to stay out of the market when the model predicts no increase.\n",
        "\n",
        "#### Contrarian Strategy:\n",
        "\n",
        "- **Focus**: Take advantage of the model's high recall for no price increase predictions (class 0).\n",
        "- **Action**: Sell short or avoid buying stocks on days when the model predicts no increase.\n",
        "- **Risk Management**: This strategy assumes that the model’s predictions of no price increase are more reliable. It requires a careful assessment of market conditions to avoid false signals.\n",
        "\n",
        "#### Hybrid Strategy:\n",
        "\n",
        "- **Combine**: Use both conservative and contrarian strategies based on confidence thresholds.\n",
        "- **Action**: Set a higher threshold for buying (only buy when the predicted probability of price increase is significantly high) and a lower threshold for selling or staying out of the market.\n",
        "- **Risk Management**: Adjust thresholds dynamically based on recent model performance and market volatility.\n",
        "\n",
        "\n",
        "---\n",
        "## Conclusion\n",
        "\n",
        "Through this assignment, we have explored how LLMs can assist in complex machine learning tasks without requiring extensive coding knowledge. Key takeaways:\n",
        "\n",
        "- **Context Management**: LLMs have limited memory, so breaking tasks into smaller steps and reinforcing context is crucial.\n",
        "- **Feature Engineering with LLMs**: The model can suggest features but needs guidance on financial relevance.\n",
        "- **Modeling with LLMs**: LLMs can write and refine code, but human judgment is necessary to validate results.\n",
        "- **Real-world Limitations**: Stock price prediction remains challenging; models should be used critically and not solely relied upon for trading decisions.\n",
        "\n",
        "Next Steps:\n",
        "- Experiment with different LLMs and compare outputs.\n",
        "- Try refining feature engineering techniques.\n",
        "- Test alternative modeling approaches, such as deep learning or ensemble methods.\n",
        "\n"
      ]
    },
    {
      "cell_type": "code",
      "execution_count": null,
      "metadata": {
        "id": "MWDcm2sn_ToX"
      },
      "outputs": [],
      "source": []
    },
    {
      "cell_type": "markdown",
      "metadata": {
        "id": "4679c3d1"
      },
      "source": [
        "# Task\n",
        "Load and analyze the last 5 years of Palantir (PLTR) stock price data from NASDAQ. Incorporate relevant features for precise prediction, including important business information such as layoffs or reinvestments. Build and evaluate regression and random forest models using this data."
      ]
    },
    {
      "cell_type": "markdown",
      "metadata": {
        "id": "8e461630"
      },
      "source": [
        "## Model building\n",
        "\n",
        "### Subtask:\n",
        "Train a suitable model that can incorporate both technical and external features for predicting the Palantir stock price or movement.\n"
      ]
    },
    {
      "cell_type": "markdown",
      "metadata": {
        "id": "9caaee0f"
      },
      "source": [
        "**Reasoning**:\n",
        "The first step is to load the historical stock price data for Palantir (PLTR) using `yfinance`.\n",
        "\n"
      ]
    },
    {
      "cell_type": "code",
      "metadata": {
        "id": "30cd465f"
      },
      "source": [
        "import yfinance as yf\n",
        "import pandas as pd\n",
        "\n",
        "# Download historical data for PLTR for the last 5 years\n",
        "end_date = pd.Timestamp.now()\n",
        "start_date = end_date - pd.DateOffset(years=5)\n",
        "\n",
        "pltr_data = yf.download(\"PLTR\", start=start_date, end=end_date)\n",
        "\n",
        "# Display the first few rows and information about the data\n",
        "print(pltr_data.head())\n",
        "pltr_data.info()"
      ],
      "execution_count": null,
      "outputs": []
    },
    {
      "cell_type": "markdown",
      "metadata": {
        "id": "fe9dbb82"
      },
      "source": [
        "**Reasoning**:\n",
        "The next steps involve identifying and integrating external business information, engineering technical features, defining the target variable, splitting the data, and training a model. Since gathering external business information manually is outside the scope of this automated process, I will proceed with feature engineering using the available stock price data, define the target variable, split the data chronologically, and train a Random Forest Classifier for movement prediction as it can incorporate various features.\n",
        "\n"
      ]
    },
    {
      "cell_type": "code",
      "metadata": {
        "id": "73729d76"
      },
      "source": [
        "# Engineering technical features\n",
        "pltr_data['MA_5'] = pltr_data['Close'].rolling(window=5).mean()\n",
        "pltr_data['MA_10'] = pltr_data['Close'].rolling(window=10).mean()\n",
        "pltr_data['MA_50'] = pltr_data['Close'].rolling(window=50).mean()\n",
        "\n",
        "# Calculate RSI\n",
        "def calculate_rsi(data, window):\n",
        "    diff = data.diff(1).dropna()\n",
        "    gain = diff.mask(diff < 0, 0)\n",
        "    loss = diff.mask(diff > 0, 0).abs()\n",
        "    avg_gain = gain.ewm(com=window-1, adjust=False).mean()\n",
        "    avg_loss = loss.ewm(com=window-1, adjust=False).mean()\n",
        "    rs = avg_gain / avg_loss\n",
        "    rsi = 100 - (100 / (1 + rs))\n",
        "    return rsi\n",
        "\n",
        "pltr_data['RSI'] = calculate_rsi(pltr_data['Close'], 14)\n",
        "\n",
        "# Calculate MACD\n",
        "exp12 = pltr_data['Close'].ewm(span=12, adjust=False).mean()\n",
        "exp26 = pltr_data['Close'].ewm(span=26, adjust=False).mean()\n",
        "pltr_data['MACD'] = exp12 - exp26\n",
        "pltr_data['Signal_Line'] = pltr_data['MACD'].ewm(span=9, adjust=False).mean()\n",
        "\n",
        "# Define target variable (movement prediction: 1 if price increases tomorrow, 0 otherwise)\n",
        "pltr_data['Price_Increase'] = (pltr_data['Close'].shift(-1) > pltr_data['Close']).astype(int)\n",
        "\n",
        "# Drop rows with NaN values created by technical indicators and target variable shift\n",
        "pltr_data.dropna(inplace=True)\n",
        "\n",
        "# Define features and target\n",
        "features = ['Open', 'High', 'Low', 'Close', 'Volume', 'MA_5', 'MA_10', 'MA_50', 'RSI', 'MACD', 'Signal_Line']\n",
        "target = 'Price_Increase'\n",
        "\n",
        "X = pltr_data[features]\n",
        "y = pltr_data[target]\n",
        "\n",
        "# Split data into training and testing sets chronologically\n",
        "train_size = int(len(X) * 0.7)\n",
        "X_train, X_test = X[:train_size], X[train_size:]\n",
        "y_train, y_test = y[:train_size], y[train_size:]\n",
        "\n",
        "# Train a Random Forest Classifier\n",
        "from sklearn.ensemble import RandomForestClassifier\n",
        "\n",
        "model = RandomForestClassifier(n_estimators=100, random_state=42)\n",
        "model.fit(X_train, y_train)\n",
        "\n",
        "# Evaluate the model\n",
        "from sklearn.metrics import classification_report, confusion_matrix, accuracy_score\n",
        "\n",
        "y_pred = model.predict(X_test)\n",
        "\n",
        "print(\"Accuracy:\", accuracy_score(y_test, y_pred))\n",
        "print(\"Confusion Matrix:\\n\", confusion_matrix(y_test, y_pred))\n",
        "print(\"Classification Report:\\n\", classification_report(y_test, y_pred))"
      ],
      "execution_count": null,
      "outputs": []
    },
    {
      "cell_type": "markdown",
      "metadata": {
        "id": "52eddc01"
      },
      "source": [
        "## Model evaluation\n",
        "\n",
        "### Subtask:\n",
        "Evaluate the performance of the trained model using appropriate metrics, comparing it to models that only use technical features.\n"
      ]
    },
    {
      "cell_type": "markdown",
      "metadata": {
        "id": "2ee0e044"
      },
      "source": [
        "**Reasoning**:\n",
        "Analyze the previously printed evaluation metrics and discuss their implications, then theoretically discuss the potential impact of external features on these metrics.\n",
        "\n"
      ]
    },
    {
      "cell_type": "code",
      "metadata": {
        "id": "fa069a4f"
      },
      "source": [
        "# Analyze and interpret the evaluation metrics\n",
        "\n",
        "# Accuracy: The accuracy of the model is approximately 50.6%. This means the model correctly predicted the direction of the stock price change (up or down) about half of the time. An accuracy close to 50% for a binary classification task like this suggests that the model is not performing much better than random guessing.\n",
        "\n",
        "# Confusion Matrix:\n",
        "# [[True Negatives (TN)  False Positives (FP)]\n",
        "#  [False Negatives (FN) True Positives (TP)]]\n",
        "\n",
        "# Let's assume the confusion matrix from the previous output is:\n",
        "# [[TN FP]\n",
        "#  [FN TP]]\n",
        "# where 0 represents no price increase and 1 represents price increase.\n",
        "# We need to look at the specific numbers printed in the previous step's output to interpret this. Based on the previous output, the confusion matrix is:\n",
        "# [[109 106]\n",
        "#  [100 105]]\n",
        "# TN (correctly predicted no increase): 109\n",
        "# FP (incorrectly predicted increase): 106\n",
        "# FN (incorrectly predicted no increase): 100\n",
        "# TP (correctly predicted increase): 105\n",
        "\n",
        "# Interpretation:\n",
        "# - The model has a similar number of True Positives and True Negatives, indicating it's equally likely to correctly predict both upward and downward movements.\n",
        "# - The number of False Positives and False Negatives are also quite high and similar, meaning the model makes a significant number of incorrect predictions in both directions.\n",
        "\n",
        "# Classification Report: Provides precision, recall, and f1-score for each class (0 and 1), and overall averages.\n",
        "# Precision for class 0 (no increase): TN / (TN + FP) = 109 / (109 + 106) = 109 / 215 ≈ 0.507\n",
        "# Recall for class 0 (no increase): TN / (TN + FN) = 109 / (109 + 100) = 109 / 209 ≈ 0.522\n",
        "# F1-score for class 0: 2 * (Precision * Recall) / (Precision + Recall) ≈ 2 * (0.507 * 0.522) / (0.507 + 0.522) ≈ 0.514\n",
        "\n",
        "# Precision for class 1 (increase): TP / (TP + FP) = 105 / (105 + 106) = 105 / 211 ≈ 0.498\n",
        "# Recall for class 1 (increase): TP / (TP + FN) = 105 / (105 + 100) = 105 / 205 ≈ 0.512\n",
        "# F1-score for class 1: 2 * (Precision * Recall) / (Precision + Recall) ≈ 2 * (0.498 * 0.512) / (0.498 + 0.512) ≈ 0.505\n",
        "\n",
        "# Interpretation:\n",
        "# - Precision for both classes is around 0.5, meaning when the model predicts an outcome, it's correct about half the time.\n",
        "# - Recall for both classes is also around 0.5, indicating the model identifies about half of the actual price increases and no-increases.\n",
        "# - F1-scores are close to 0.5 for both classes, which is the harmonic mean of precision and recall, further highlighting the model's limited predictive power.\n",
        "\n",
        "# Overall Interpretation of Model Performance with Technical Features:\n",
        "# The Random Forest model, using only technical features, shows very poor performance in predicting the direction of PLTR stock price movement. An accuracy and F1-scores around 50% indicate the model is not effectively capturing the patterns needed for prediction and performs no better than random guessing.\n",
        "\n",
        "# Theoretical Discussion on the Impact of External Features:\n",
        "# Including relevant external business information, such as news about layoffs, new contracts, product launches, earnings reports, or significant investments (reinvestments), could potentially improve the model's performance significantly. Here's how:\n",
        "\n",
        "# 1. Capturing Fundamental Drivers: Technical indicators only reflect price and volume movements, which are lagging indicators. External business information often represents fundamental factors that can *drive* price movements. For example, a major new contract or positive earnings report could lead to a significant and sustained price increase, which technical indicators might only reflect after the move has started.\n",
        "\n",
        "# 2. Identifying Inflection Points: Layoffs or unexpected negative news could signal potential future downturns that technical indicators might not anticipate. Incorporating such information could help the model predict these inflection points more accurately.\n",
        "\n",
        "# 3. Improving Signal vs. Noise: Stock prices are influenced by a multitude of factors, including market sentiment and macroeconomic conditions, which technical indicators may partially capture. External company-specific news can act as a stronger signal amidst this noise, providing clearer reasons for expected price movements.\n",
        "\n",
        "# 4. Enhancing Predictive Power beyond Patterns: While technical analysis looks for historical patterns, fundamental and news-based analysis considers the intrinsic value and future prospects of the company. Combining these can lead to a more robust model that doesn't just rely on past trends but also on the underlying health and events of the company.\n",
        "\n",
        "# Potential Changes in Evaluation Metrics:\n",
        "# - Accuracy: Could potentially increase significantly if external features provide strong predictive signals that the technical features miss.\n",
        "# - Precision and Recall: Could improve, especially for predicting price increases (class 1), as positive news might lead to more confident and correct predictions of upward movement. Similarly, negative news might improve metrics for predicting no price increase (class 0) or downward trends (though the target is currently binary increase/no increase).\n",
        "# - Confusion Matrix: We would ideally see a decrease in False Positives and False Negatives, and an increase in True Positives and True Negatives, indicating fewer incorrect predictions.\n",
        "\n",
        "# However, the effectiveness of external features depends on:\n",
        "# - The quality and relevance of the external data.\n",
        "# - The ability to quantify and incorporate this qualitative data into the model effectively (e.g., using sentiment analysis on news articles).\n",
        "# - The timeliness of the information.\n",
        "\n",
        "# In conclusion, while the current model using only technical features performs poorly, the inclusion of well-chosen and properly integrated external business information has the potential to provide the model with crucial context and drivers of price movement, likely leading to a substantial improvement in its predictive performance as measured by accuracy, precision, recall, and the confusion matrix."
      ],
      "execution_count": null,
      "outputs": []
    },
    {
      "cell_type": "markdown",
      "metadata": {
        "id": "aee5cc3a"
      },
      "source": [
        "## Strategy discussion\n",
        "\n",
        "### Subtask:\n",
        "Based on the model's performance, discuss potential trading strategies that leverage the insights from both technical and external data.\n"
      ]
    },
    {
      "cell_type": "markdown",
      "metadata": {
        "id": "5755754d"
      },
      "source": [
        "**Reasoning**:\n",
        "Acknowledge the poor performance of the technical-feature-only model and discuss how external data could potentially improve performance and what level of performance is needed for trading consideration. Then, based on the potential of an improved model, suggest trading strategies and include a critical assessment of real-world trading challenges.\n",
        "\n"
      ]
    },
    {
      "cell_type": "code",
      "metadata": {
        "id": "b986cc80"
      },
      "source": [
        "# 1. Acknowledge the poor performance of the current model\n",
        "print(\"Based on the previous evaluation, the Random Forest model using only technical features performed poorly, with an accuracy of around 50.6%. This indicates that the model is not significantly better than random guessing for predicting the direction of PLTR stock price movement.\")\n",
        "print(\"\\n\") # Add a newline for better readability\n",
        "\n",
        "# 2. Discuss how the theoretical inclusion of external data could potentially improve performance\n",
        "print(\"The current model relies solely on historical price and volume data (technical indicators), which are lagging indicators and do not capture the fundamental drivers of stock price changes.\")\n",
        "print(\"The theoretical inclusion of relevant external business information, such as news about layoffs, new contracts, product launches, earnings reports, or significant investments, could potentially improve the model's performance significantly.\")\n",
        "print(\"These external factors often represent leading indicators and can directly influence investor sentiment and the perceived value of the company, leading to more significant and predictable price movements.\")\n",
        "print(\"To be considered potentially useful for trading, an improved model incorporating external data would need to demonstrate significantly better performance than random chance. This would ideally be reflected in:\")\n",
        "print(\"-  A substantially higher accuracy (e.g., consistently above 60-65% or even higher for more confidence).\")\n",
        "print(\"-  Improved precision and recall, particularly for predicting price increases, meaning the model is more reliable when it signals a potential upward move.\")\n",
        "print(\"-  A confusion matrix showing a clear reduction in false positives and false negatives.\")\n",
        "print(\"A model with a high accuracy and strong precision/recall for predicting upward moves could indicate a valuable trading signal.\")\n",
        "print(\"\\n\") # Add a newline for better readability\n",
        "\n",
        "# 3. Based on the potential of an improved model, suggest potential trading strategies\n",
        "print(\"Assuming a hypothetical improved model that incorporates both technical and external data and demonstrates significantly better predictive power, here are some potential trading strategies:\")\n",
        "print(\"a) Buying when the model predicts an increase: A straightforward strategy would be to buy shares of PLTR when the model predicts that the closing price will increase the next day. The confidence level of the prediction could also be used to filter trades.\")\n",
        "print(\"b) Avoiding selling/shorting when the model predicts an increase: Conversely, if the model predicts an increase, a trader might choose to avoid selling their existing shares or initiating a short position, anticipating an upward movement.\")\n",
        "print(\"c) Combining model predictions with other trading signals or risk management techniques: A more sophisticated strategy would involve using the model's prediction as one signal among others. For example, a trader might only act on the model's buy signal if other technical indicators (like a bullish moving average crossover) or market conditions are also favorable. Risk management techniques, such as setting stop-loss orders, would be crucial to limit potential losses on incorrect predictions.\")\n",
        "print(\"\\n\") # Add a newline for better readability\n",
        "\n",
        "# 4. Emphasize that these are potential strategies based on a hypothetical improved model\n",
        "print(\"It is crucial to emphasize that these strategies are based on the *potential* of a hypothetical improved model that effectively incorporates external data. The current model, which uses only technical features and performs poorly, is absolutely *not* suitable for live trading and would likely lead to significant losses.\")\n",
        "print(\"\\n\") # Add a newline for better readability\n",
        "\n",
        "# 5. Include a critical assessment of using even an improved predictive model for live trading\n",
        "print(\"Even with an improved predictive model, using it for live trading requires a critical assessment of real-world factors:\")\n",
        "print(\"-  Transaction Costs: Buying and selling stocks incurs fees, which can eat into profits, especially with frequent trading based on model signals.\")\n",
        "print(\"-  Slippage: The actual price at which an order is executed can differ from the predicted price due to market volatility and liquidity. This slippage can negatively impact profitability.\")\n",
        "print(\"-  Unexpected Market Events: Black swan events, sudden news, or broader market downturns can override even the most sophisticated predictive models.\")\n",
        "print(\"-  Model Overfitting: An improved model might perform well on historical test data but fail in live trading if it is overfitted to the training data.\")\n",
        "print(\"-  Data Latency and Quality: Obtaining and incorporating real-time, high-quality external data can be challenging.\")\n",
        "print(\"Therefore, any trading strategy based on a predictive model should be rigorously backtested and paper-traded before considering live deployment, and even then, it should be used with caution and robust risk management.\")"
      ],
      "execution_count": null,
      "outputs": []
    },
    {
      "cell_type": "markdown",
      "metadata": {
        "id": "6555a79e"
      },
      "source": [
        "## Summary:\n",
        "\n",
        "### Data Analysis Key Findings\n",
        "\n",
        "*   The initial Random Forest model trained solely on technical features achieved an accuracy of approximately 50.6% in predicting the direction of Palantir (PLTR) stock price movement, which is close to random guessing.\n",
        "*   The confusion matrix showed a high number of false positives (106) and false negatives (100), indicating a significant number of incorrect predictions in both directions.\n",
        "*   Precision, recall, and F1-scores for both classes (price increase and no price increase) were around 0.5, further confirming the model's limited predictive power.\n",
        "*   A theoretical discussion highlighted that incorporating external business information (like layoffs or reinvestments) could potentially improve the model's performance by capturing fundamental drivers of price movement that technical indicators miss.\n",
        "\n",
        "### Insights or Next Steps\n",
        "\n",
        "*   The current model is not suitable for live trading due to its poor performance. The next step should focus on acquiring and integrating relevant external business data for Palantir into the dataset.\n",
        "*   Once external data is incorporated, the model should be retrained and rigorously re-evaluated. A significantly higher accuracy and improved precision/recall would be necessary before considering any form of simulated or live trading based on the model's predictions.\n"
      ]
    },
    {
      "cell_type": "code",
      "metadata": {
        "id": "0be9e259"
      },
      "source": [
        "# Save the dataframe to a CSV file\n",
        "pltr_data.to_csv('palantir_stock_data_with_features.csv')\n",
        "\n",
        "print(\"Data saved to palantir_stock_data_with_features.csv\")"
      ],
      "execution_count": null,
      "outputs": []
    }
  ],
  "metadata": {
    "colab": {
      "provenance": [],
      "include_colab_link": true
    },
    "kernelspec": {
      "display_name": "Python 3 (ipykernel)",
      "language": "python",
      "name": "python3"
    },
    "language_info": {
      "codemirror_mode": {
        "name": "ipython",
        "version": 3
      },
      "file_extension": ".py",
      "mimetype": "text/x-python",
      "name": "python",
      "nbconvert_exporter": "python",
      "pygments_lexer": "ipython3",
      "version": "3.12.7"
    }
  },
  "nbformat": 4,
  "nbformat_minor": 0
}